{
 "cells": [
  {
   "cell_type": "code",
   "execution_count": 1,
   "id": "d892dfe3",
   "metadata": {},
   "outputs": [],
   "source": [
    "import pandas as pd\n",
    "import numpy as np\n",
    "import matplotlib.pyplot as plt\n",
    "import seaborn as sns\n",
    "from sklearn.preprocessing import MinMaxScaler, StandardScaler\n",
    "from datetime import datetime\n",
    "import warnings"
   ]
  },
  {
   "cell_type": "code",
   "execution_count": 2,
   "id": "6c30087c",
   "metadata": {},
   "outputs": [],
   "source": [
    "df = pd.read_csv(\"HomeC_11.csv\")"
   ]
  },
  {
   "cell_type": "code",
   "execution_count": 3,
   "id": "ccac4638",
   "metadata": {},
   "outputs": [],
   "source": [
    "df['time'] = pd.DatetimeIndex(pd.date_range('2016-11-01 00:01', periods=len(df),  freq='min'))\n",
    "df = df.set_index('time')"
   ]
  },
  {
   "cell_type": "code",
   "execution_count": 4,
   "id": "b1dd1d79",
   "metadata": {},
   "outputs": [],
   "source": [
    "# kw > KWh 요금 적용\n",
    "df['r_fare'] = df['real'] * df['fare'] / 60\n",
    "df['p_fare'] = df['predict'] * df['fare'] / 60"
   ]
  },
  {
   "cell_type": "code",
   "execution_count": 5,
   "id": "fa4d5901-c04a-40cc-8aeb-a7bbf3579316",
   "metadata": {},
   "outputs": [
    {
     "data": {
      "text/plain": [
       "90952.36784112893"
      ]
     },
     "execution_count": 5,
     "metadata": {},
     "output_type": "execute_result"
    }
   ],
   "source": [
    "sum(df['r_fare'])"
   ]
  },
  {
   "cell_type": "code",
   "execution_count": 6,
   "id": "44c254d6",
   "metadata": {},
   "outputs": [
    {
     "data": {
      "text/html": [
       "<div>\n",
       "<style scoped>\n",
       "    .dataframe tbody tr th:only-of-type {\n",
       "        vertical-align: middle;\n",
       "    }\n",
       "\n",
       "    .dataframe tbody tr th {\n",
       "        vertical-align: top;\n",
       "    }\n",
       "\n",
       "    .dataframe thead th {\n",
       "        text-align: right;\n",
       "    }\n",
       "</style>\n",
       "<table border=\"1\" class=\"dataframe\">\n",
       "  <thead>\n",
       "    <tr style=\"text-align: right;\">\n",
       "      <th></th>\n",
       "      <th>real</th>\n",
       "      <th>predict</th>\n",
       "      <th>month</th>\n",
       "      <th>day</th>\n",
       "      <th>weekday</th>\n",
       "      <th>hour</th>\n",
       "      <th>minute</th>\n",
       "      <th>fare</th>\n",
       "      <th>r_fare</th>\n",
       "      <th>p_fare</th>\n",
       "    </tr>\n",
       "    <tr>\n",
       "      <th>time</th>\n",
       "      <th></th>\n",
       "      <th></th>\n",
       "      <th></th>\n",
       "      <th></th>\n",
       "      <th></th>\n",
       "      <th></th>\n",
       "      <th></th>\n",
       "      <th></th>\n",
       "      <th></th>\n",
       "      <th></th>\n",
       "    </tr>\n",
       "  </thead>\n",
       "  <tbody>\n",
       "    <tr>\n",
       "      <th>2016-11-01 00:01:00</th>\n",
       "      <td>0.013283</td>\n",
       "      <td>0.050851</td>\n",
       "      <td>11</td>\n",
       "      <td>1</td>\n",
       "      <td>Tuesday</td>\n",
       "      <td>0</td>\n",
       "      <td>1</td>\n",
       "      <td>153.0</td>\n",
       "      <td>0.033872</td>\n",
       "      <td>0.129670</td>\n",
       "    </tr>\n",
       "    <tr>\n",
       "      <th>2016-11-01 00:02:00</th>\n",
       "      <td>0.068133</td>\n",
       "      <td>0.102575</td>\n",
       "      <td>11</td>\n",
       "      <td>1</td>\n",
       "      <td>Tuesday</td>\n",
       "      <td>0</td>\n",
       "      <td>2</td>\n",
       "      <td>153.0</td>\n",
       "      <td>0.173740</td>\n",
       "      <td>0.261565</td>\n",
       "    </tr>\n",
       "    <tr>\n",
       "      <th>2016-11-01 00:03:00</th>\n",
       "      <td>0.118167</td>\n",
       "      <td>0.154763</td>\n",
       "      <td>11</td>\n",
       "      <td>1</td>\n",
       "      <td>Tuesday</td>\n",
       "      <td>0</td>\n",
       "      <td>3</td>\n",
       "      <td>153.0</td>\n",
       "      <td>0.301325</td>\n",
       "      <td>0.394645</td>\n",
       "    </tr>\n",
       "    <tr>\n",
       "      <th>2016-11-01 00:04:00</th>\n",
       "      <td>0.699050</td>\n",
       "      <td>0.727142</td>\n",
       "      <td>11</td>\n",
       "      <td>1</td>\n",
       "      <td>Tuesday</td>\n",
       "      <td>0</td>\n",
       "      <td>4</td>\n",
       "      <td>153.0</td>\n",
       "      <td>1.782577</td>\n",
       "      <td>1.854211</td>\n",
       "    </tr>\n",
       "    <tr>\n",
       "      <th>2016-11-01 00:05:00</th>\n",
       "      <td>0.666250</td>\n",
       "      <td>0.696346</td>\n",
       "      <td>11</td>\n",
       "      <td>1</td>\n",
       "      <td>Tuesday</td>\n",
       "      <td>0</td>\n",
       "      <td>5</td>\n",
       "      <td>153.0</td>\n",
       "      <td>1.698937</td>\n",
       "      <td>1.775682</td>\n",
       "    </tr>\n",
       "    <tr>\n",
       "      <th>...</th>\n",
       "      <td>...</td>\n",
       "      <td>...</td>\n",
       "      <td>...</td>\n",
       "      <td>...</td>\n",
       "      <td>...</td>\n",
       "      <td>...</td>\n",
       "      <td>...</td>\n",
       "      <td>...</td>\n",
       "      <td>...</td>\n",
       "      <td>...</td>\n",
       "    </tr>\n",
       "    <tr>\n",
       "      <th>2016-11-30 23:55:00</th>\n",
       "      <td>0.947467</td>\n",
       "      <td>0.964025</td>\n",
       "      <td>11</td>\n",
       "      <td>30</td>\n",
       "      <td>Wednesday</td>\n",
       "      <td>23</td>\n",
       "      <td>55</td>\n",
       "      <td>153.0</td>\n",
       "      <td>2.416040</td>\n",
       "      <td>2.458263</td>\n",
       "    </tr>\n",
       "    <tr>\n",
       "      <th>2016-11-30 23:56:00</th>\n",
       "      <td>0.949917</td>\n",
       "      <td>0.966224</td>\n",
       "      <td>11</td>\n",
       "      <td>30</td>\n",
       "      <td>Wednesday</td>\n",
       "      <td>23</td>\n",
       "      <td>56</td>\n",
       "      <td>153.0</td>\n",
       "      <td>2.422288</td>\n",
       "      <td>2.463871</td>\n",
       "    </tr>\n",
       "    <tr>\n",
       "      <th>2016-11-30 23:57:00</th>\n",
       "      <td>0.925950</td>\n",
       "      <td>0.944675</td>\n",
       "      <td>11</td>\n",
       "      <td>30</td>\n",
       "      <td>Wednesday</td>\n",
       "      <td>23</td>\n",
       "      <td>57</td>\n",
       "      <td>153.0</td>\n",
       "      <td>2.361173</td>\n",
       "      <td>2.408922</td>\n",
       "    </tr>\n",
       "    <tr>\n",
       "      <th>2016-11-30 23:58:00</th>\n",
       "      <td>0.918600</td>\n",
       "      <td>0.938050</td>\n",
       "      <td>11</td>\n",
       "      <td>30</td>\n",
       "      <td>Wednesday</td>\n",
       "      <td>23</td>\n",
       "      <td>58</td>\n",
       "      <td>153.0</td>\n",
       "      <td>2.342430</td>\n",
       "      <td>2.392027</td>\n",
       "    </tr>\n",
       "    <tr>\n",
       "      <th>2016-11-30 23:59:00</th>\n",
       "      <td>0.827517</td>\n",
       "      <td>0.855275</td>\n",
       "      <td>11</td>\n",
       "      <td>30</td>\n",
       "      <td>Wednesday</td>\n",
       "      <td>23</td>\n",
       "      <td>59</td>\n",
       "      <td>153.0</td>\n",
       "      <td>2.110168</td>\n",
       "      <td>2.180951</td>\n",
       "    </tr>\n",
       "  </tbody>\n",
       "</table>\n",
       "<p>43199 rows × 10 columns</p>\n",
       "</div>"
      ],
      "text/plain": [
       "                         real   predict  month  day    weekday  hour  minute  \\\n",
       "time                                                                           \n",
       "2016-11-01 00:01:00  0.013283  0.050851     11    1    Tuesday     0       1   \n",
       "2016-11-01 00:02:00  0.068133  0.102575     11    1    Tuesday     0       2   \n",
       "2016-11-01 00:03:00  0.118167  0.154763     11    1    Tuesday     0       3   \n",
       "2016-11-01 00:04:00  0.699050  0.727142     11    1    Tuesday     0       4   \n",
       "2016-11-01 00:05:00  0.666250  0.696346     11    1    Tuesday     0       5   \n",
       "...                       ...       ...    ...  ...        ...   ...     ...   \n",
       "2016-11-30 23:55:00  0.947467  0.964025     11   30  Wednesday    23      55   \n",
       "2016-11-30 23:56:00  0.949917  0.966224     11   30  Wednesday    23      56   \n",
       "2016-11-30 23:57:00  0.925950  0.944675     11   30  Wednesday    23      57   \n",
       "2016-11-30 23:58:00  0.918600  0.938050     11   30  Wednesday    23      58   \n",
       "2016-11-30 23:59:00  0.827517  0.855275     11   30  Wednesday    23      59   \n",
       "\n",
       "                      fare    r_fare    p_fare  \n",
       "time                                            \n",
       "2016-11-01 00:01:00  153.0  0.033872  0.129670  \n",
       "2016-11-01 00:02:00  153.0  0.173740  0.261565  \n",
       "2016-11-01 00:03:00  153.0  0.301325  0.394645  \n",
       "2016-11-01 00:04:00  153.0  1.782577  1.854211  \n",
       "2016-11-01 00:05:00  153.0  1.698937  1.775682  \n",
       "...                    ...       ...       ...  \n",
       "2016-11-30 23:55:00  153.0  2.416040  2.458263  \n",
       "2016-11-30 23:56:00  153.0  2.422288  2.463871  \n",
       "2016-11-30 23:57:00  153.0  2.361173  2.408922  \n",
       "2016-11-30 23:58:00  153.0  2.342430  2.392027  \n",
       "2016-11-30 23:59:00  153.0  2.110168  2.180951  \n",
       "\n",
       "[43199 rows x 10 columns]"
      ]
     },
     "execution_count": 6,
     "metadata": {},
     "output_type": "execute_result"
    }
   ],
   "source": [
    "df"
   ]
  },
  {
   "cell_type": "code",
   "execution_count": 7,
   "id": "1b12ddb8",
   "metadata": {},
   "outputs": [],
   "source": [
    "d1 = df.loc[df['day']==1]"
   ]
  },
  {
   "cell_type": "code",
   "execution_count": null,
   "id": "9715a069-9463-49c9-a380-c9b6641b9d0b",
   "metadata": {},
   "outputs": [],
   "source": []
  },
  {
   "cell_type": "code",
   "execution_count": 8,
   "id": "0a5f5e09",
   "metadata": {},
   "outputs": [
    {
     "data": {
      "text/html": [
       "<div>\n",
       "<style scoped>\n",
       "    .dataframe tbody tr th:only-of-type {\n",
       "        vertical-align: middle;\n",
       "    }\n",
       "\n",
       "    .dataframe tbody tr th {\n",
       "        vertical-align: top;\n",
       "    }\n",
       "\n",
       "    .dataframe thead th {\n",
       "        text-align: right;\n",
       "    }\n",
       "</style>\n",
       "<table border=\"1\" class=\"dataframe\">\n",
       "  <thead>\n",
       "    <tr style=\"text-align: right;\">\n",
       "      <th></th>\n",
       "      <th>real</th>\n",
       "      <th>predict</th>\n",
       "      <th>month</th>\n",
       "      <th>day</th>\n",
       "      <th>weekday</th>\n",
       "      <th>hour</th>\n",
       "      <th>minute</th>\n",
       "      <th>fare</th>\n",
       "      <th>r_fare</th>\n",
       "      <th>p_fare</th>\n",
       "    </tr>\n",
       "    <tr>\n",
       "      <th>time</th>\n",
       "      <th></th>\n",
       "      <th></th>\n",
       "      <th></th>\n",
       "      <th></th>\n",
       "      <th></th>\n",
       "      <th></th>\n",
       "      <th></th>\n",
       "      <th></th>\n",
       "      <th></th>\n",
       "      <th></th>\n",
       "    </tr>\n",
       "  </thead>\n",
       "  <tbody>\n",
       "    <tr>\n",
       "      <th>2016-11-01 00:01:00</th>\n",
       "      <td>0.013283</td>\n",
       "      <td>0.050851</td>\n",
       "      <td>11</td>\n",
       "      <td>1</td>\n",
       "      <td>Tuesday</td>\n",
       "      <td>0</td>\n",
       "      <td>1</td>\n",
       "      <td>153.0</td>\n",
       "      <td>0.033872</td>\n",
       "      <td>0.129670</td>\n",
       "    </tr>\n",
       "    <tr>\n",
       "      <th>2016-11-01 00:02:00</th>\n",
       "      <td>0.068133</td>\n",
       "      <td>0.102575</td>\n",
       "      <td>11</td>\n",
       "      <td>1</td>\n",
       "      <td>Tuesday</td>\n",
       "      <td>0</td>\n",
       "      <td>2</td>\n",
       "      <td>153.0</td>\n",
       "      <td>0.173740</td>\n",
       "      <td>0.261565</td>\n",
       "    </tr>\n",
       "    <tr>\n",
       "      <th>2016-11-01 00:03:00</th>\n",
       "      <td>0.118167</td>\n",
       "      <td>0.154763</td>\n",
       "      <td>11</td>\n",
       "      <td>1</td>\n",
       "      <td>Tuesday</td>\n",
       "      <td>0</td>\n",
       "      <td>3</td>\n",
       "      <td>153.0</td>\n",
       "      <td>0.301325</td>\n",
       "      <td>0.394645</td>\n",
       "    </tr>\n",
       "    <tr>\n",
       "      <th>2016-11-01 00:04:00</th>\n",
       "      <td>0.699050</td>\n",
       "      <td>0.727142</td>\n",
       "      <td>11</td>\n",
       "      <td>1</td>\n",
       "      <td>Tuesday</td>\n",
       "      <td>0</td>\n",
       "      <td>4</td>\n",
       "      <td>153.0</td>\n",
       "      <td>1.782577</td>\n",
       "      <td>1.854211</td>\n",
       "    </tr>\n",
       "    <tr>\n",
       "      <th>2016-11-01 00:05:00</th>\n",
       "      <td>0.666250</td>\n",
       "      <td>0.696346</td>\n",
       "      <td>11</td>\n",
       "      <td>1</td>\n",
       "      <td>Tuesday</td>\n",
       "      <td>0</td>\n",
       "      <td>5</td>\n",
       "      <td>153.0</td>\n",
       "      <td>1.698937</td>\n",
       "      <td>1.775682</td>\n",
       "    </tr>\n",
       "    <tr>\n",
       "      <th>...</th>\n",
       "      <td>...</td>\n",
       "      <td>...</td>\n",
       "      <td>...</td>\n",
       "      <td>...</td>\n",
       "      <td>...</td>\n",
       "      <td>...</td>\n",
       "      <td>...</td>\n",
       "      <td>...</td>\n",
       "      <td>...</td>\n",
       "      <td>...</td>\n",
       "    </tr>\n",
       "    <tr>\n",
       "      <th>2016-11-01 23:55:00</th>\n",
       "      <td>0.433717</td>\n",
       "      <td>0.464146</td>\n",
       "      <td>11</td>\n",
       "      <td>1</td>\n",
       "      <td>Tuesday</td>\n",
       "      <td>23</td>\n",
       "      <td>55</td>\n",
       "      <td>153.0</td>\n",
       "      <td>1.105978</td>\n",
       "      <td>1.183572</td>\n",
       "    </tr>\n",
       "    <tr>\n",
       "      <th>2016-11-01 23:56:00</th>\n",
       "      <td>0.410500</td>\n",
       "      <td>0.441163</td>\n",
       "      <td>11</td>\n",
       "      <td>1</td>\n",
       "      <td>Tuesday</td>\n",
       "      <td>23</td>\n",
       "      <td>56</td>\n",
       "      <td>153.0</td>\n",
       "      <td>1.046775</td>\n",
       "      <td>1.124967</td>\n",
       "    </tr>\n",
       "    <tr>\n",
       "      <th>2016-11-01 23:57:00</th>\n",
       "      <td>0.181200</td>\n",
       "      <td>0.251432</td>\n",
       "      <td>11</td>\n",
       "      <td>1</td>\n",
       "      <td>Tuesday</td>\n",
       "      <td>23</td>\n",
       "      <td>57</td>\n",
       "      <td>153.0</td>\n",
       "      <td>0.462060</td>\n",
       "      <td>0.641151</td>\n",
       "    </tr>\n",
       "    <tr>\n",
       "      <th>2016-11-01 23:58:00</th>\n",
       "      <td>0.009483</td>\n",
       "      <td>0.104796</td>\n",
       "      <td>11</td>\n",
       "      <td>1</td>\n",
       "      <td>Tuesday</td>\n",
       "      <td>23</td>\n",
       "      <td>58</td>\n",
       "      <td>153.0</td>\n",
       "      <td>0.024182</td>\n",
       "      <td>0.267230</td>\n",
       "    </tr>\n",
       "    <tr>\n",
       "      <th>2016-11-01 23:59:00</th>\n",
       "      <td>0.011550</td>\n",
       "      <td>0.106601</td>\n",
       "      <td>11</td>\n",
       "      <td>1</td>\n",
       "      <td>Tuesday</td>\n",
       "      <td>23</td>\n",
       "      <td>59</td>\n",
       "      <td>153.0</td>\n",
       "      <td>0.029452</td>\n",
       "      <td>0.271832</td>\n",
       "    </tr>\n",
       "  </tbody>\n",
       "</table>\n",
       "<p>1439 rows × 10 columns</p>\n",
       "</div>"
      ],
      "text/plain": [
       "                         real   predict  month  day  weekday  hour  minute  \\\n",
       "time                                                                         \n",
       "2016-11-01 00:01:00  0.013283  0.050851     11    1  Tuesday     0       1   \n",
       "2016-11-01 00:02:00  0.068133  0.102575     11    1  Tuesday     0       2   \n",
       "2016-11-01 00:03:00  0.118167  0.154763     11    1  Tuesday     0       3   \n",
       "2016-11-01 00:04:00  0.699050  0.727142     11    1  Tuesday     0       4   \n",
       "2016-11-01 00:05:00  0.666250  0.696346     11    1  Tuesday     0       5   \n",
       "...                       ...       ...    ...  ...      ...   ...     ...   \n",
       "2016-11-01 23:55:00  0.433717  0.464146     11    1  Tuesday    23      55   \n",
       "2016-11-01 23:56:00  0.410500  0.441163     11    1  Tuesday    23      56   \n",
       "2016-11-01 23:57:00  0.181200  0.251432     11    1  Tuesday    23      57   \n",
       "2016-11-01 23:58:00  0.009483  0.104796     11    1  Tuesday    23      58   \n",
       "2016-11-01 23:59:00  0.011550  0.106601     11    1  Tuesday    23      59   \n",
       "\n",
       "                      fare    r_fare    p_fare  \n",
       "time                                            \n",
       "2016-11-01 00:01:00  153.0  0.033872  0.129670  \n",
       "2016-11-01 00:02:00  153.0  0.173740  0.261565  \n",
       "2016-11-01 00:03:00  153.0  0.301325  0.394645  \n",
       "2016-11-01 00:04:00  153.0  1.782577  1.854211  \n",
       "2016-11-01 00:05:00  153.0  1.698937  1.775682  \n",
       "...                    ...       ...       ...  \n",
       "2016-11-01 23:55:00  153.0  1.105978  1.183572  \n",
       "2016-11-01 23:56:00  153.0  1.046775  1.124967  \n",
       "2016-11-01 23:57:00  153.0  0.462060  0.641151  \n",
       "2016-11-01 23:58:00  153.0  0.024182  0.267230  \n",
       "2016-11-01 23:59:00  153.0  0.029452  0.271832  \n",
       "\n",
       "[1439 rows x 10 columns]"
      ]
     },
     "execution_count": 8,
     "metadata": {},
     "output_type": "execute_result"
    }
   ],
   "source": [
    "d1"
   ]
  },
  {
   "cell_type": "code",
   "execution_count": 11,
   "id": "74d468c5",
   "metadata": {},
   "outputs": [
    {
     "data": {
      "text/plain": [
       "[<matplotlib.lines.Line2D at 0x7f207b4ec670>]"
      ]
     },
     "execution_count": 11,
     "metadata": {},
     "output_type": "execute_result"
    },
    {
     "data": {
      "image/png": "[encoded data removed]",
      "text/plain": [
       "<Figure size 1080x288 with 1 Axes>"
      ]
     },
     "metadata": {
      "needs_background": "light"
     },
     "output_type": "display_data"
    }
   ],
   "source": [
    "low = [13,14,15,16,17,18,19,20,21,22]\n",
    "mid = [23,0,1,2,3,4,5,6]\n",
    "high = [7,8,9,10,11,12]\n",
    "plt.figure(figsize=(15,4))\n",
    "plt.plot(df['predict'], c='red', label='predict')"
   ]
  },
  {
   "cell_type": "code",
   "execution_count": 19,
   "id": "a05f84f9",
   "metadata": {},
   "outputs": [
    {
     "name": "stdout",
     "output_type": "stream",
     "text": [
      "3455.3254258891334\n",
      "3277.288801559349\n"
     ]
    }
   ],
   "source": [
    "#하루요금량\n",
    "print(sum(d1['r_fare']))\n",
    "print(sum(d1['p_fare']))"
   ]
  },
  {
   "cell_type": "code",
   "execution_count": 16,
   "id": "04fc1430-51c0-4048-a210-e910c25359ea",
   "metadata": {},
   "outputs": [
    {
     "data": {
      "text/plain": [
       "time\n",
       "2016-11-01 00:01:00     0.221314\n",
       "2016-11-01 00:02:00    62.922586\n",
       "2016-11-01 00:03:00    39.065880\n",
       "2016-11-01 00:04:00     0.826801\n",
       "2016-11-01 00:05:00     0.763976\n",
       "                         ...    \n",
       "2016-11-01 23:55:00     0.378884\n",
       "2016-11-01 23:56:00     0.939803\n",
       "2016-11-01 23:57:00    18.340995\n",
       "2016-11-01 23:58:00    92.170074\n",
       "2016-11-01 23:59:00    81.089654\n",
       "Length: 1439, dtype: float64"
      ]
     },
     "execution_count": 18,
     "metadata": {},
     "output_type": "execute_result"
    }
   ],
   "source": [
    "np.mean(np.abs((d1['r_fare'] - np.abs(d1['p_fare'])) / d1['r_fare'])) * 100"
   ]
  },
  {
   "cell_type": "code",
   "execution_count": 12,
   "id": "66eda16d",
   "metadata": {},
   "outputs": [],
   "source": [
    "d1_h = d1[d1['hour'].isin(high)]\n",
    "d1_m = d1[d1['hour'].isin(mid)]\n",
    "d1_l = d1[d1['hour'].isin(low)]"
   ]
  },
  {
   "cell_type": "code",
   "execution_count": 12,
   "id": "e29be64e",
   "metadata": {},
   "outputs": [
    {
     "data": {
      "text/html": [
       "<div>\n",
       "<style scoped>\n",
       "    .dataframe tbody tr th:only-of-type {\n",
       "        vertical-align: middle;\n",
       "    }\n",
       "\n",
       "    .dataframe tbody tr th {\n",
       "        vertical-align: top;\n",
       "    }\n",
       "\n",
       "    .dataframe thead th {\n",
       "        text-align: right;\n",
       "    }\n",
       "</style>\n",
       "<table border=\"1\" class=\"dataframe\">\n",
       "  <thead>\n",
       "    <tr style=\"text-align: right;\">\n",
       "      <th></th>\n",
       "      <th>real</th>\n",
       "      <th>predict</th>\n",
       "      <th>month</th>\n",
       "      <th>day</th>\n",
       "      <th>weekday</th>\n",
       "      <th>hour</th>\n",
       "      <th>minute</th>\n",
       "      <th>fare</th>\n",
       "      <th>r_fare</th>\n",
       "      <th>p_fare</th>\n",
       "    </tr>\n",
       "    <tr>\n",
       "      <th>time</th>\n",
       "      <th></th>\n",
       "      <th></th>\n",
       "      <th></th>\n",
       "      <th></th>\n",
       "      <th></th>\n",
       "      <th></th>\n",
       "      <th></th>\n",
       "      <th></th>\n",
       "      <th></th>\n",
       "      <th></th>\n",
       "    </tr>\n",
       "  </thead>\n",
       "  <tbody>\n",
       "    <tr>\n",
       "      <th>2016-11-01 07:00:00</th>\n",
       "      <td>1.737450</td>\n",
       "      <td>1.644289</td>\n",
       "      <td>11</td>\n",
       "      <td>1</td>\n",
       "      <td>Tuesday</td>\n",
       "      <td>7</td>\n",
       "      <td>0</td>\n",
       "      <td>188.8</td>\n",
       "      <td>5.467176</td>\n",
       "      <td>5.174030</td>\n",
       "    </tr>\n",
       "    <tr>\n",
       "      <th>2016-11-01 07:01:00</th>\n",
       "      <td>1.729317</td>\n",
       "      <td>1.637633</td>\n",
       "      <td>11</td>\n",
       "      <td>1</td>\n",
       "      <td>Tuesday</td>\n",
       "      <td>7</td>\n",
       "      <td>1</td>\n",
       "      <td>188.8</td>\n",
       "      <td>5.441583</td>\n",
       "      <td>5.153085</td>\n",
       "    </tr>\n",
       "    <tr>\n",
       "      <th>2016-11-01 07:02:00</th>\n",
       "      <td>1.636267</td>\n",
       "      <td>1.560923</td>\n",
       "      <td>11</td>\n",
       "      <td>1</td>\n",
       "      <td>Tuesday</td>\n",
       "      <td>7</td>\n",
       "      <td>2</td>\n",
       "      <td>188.8</td>\n",
       "      <td>5.148786</td>\n",
       "      <td>4.911705</td>\n",
       "    </tr>\n",
       "    <tr>\n",
       "      <th>2016-11-01 07:03:00</th>\n",
       "      <td>1.811750</td>\n",
       "      <td>1.704753</td>\n",
       "      <td>11</td>\n",
       "      <td>1</td>\n",
       "      <td>Tuesday</td>\n",
       "      <td>7</td>\n",
       "      <td>3</td>\n",
       "      <td>188.8</td>\n",
       "      <td>5.700973</td>\n",
       "      <td>5.364289</td>\n",
       "    </tr>\n",
       "    <tr>\n",
       "      <th>2016-11-01 07:04:00</th>\n",
       "      <td>1.588817</td>\n",
       "      <td>1.521392</td>\n",
       "      <td>11</td>\n",
       "      <td>1</td>\n",
       "      <td>Tuesday</td>\n",
       "      <td>7</td>\n",
       "      <td>4</td>\n",
       "      <td>188.8</td>\n",
       "      <td>4.999476</td>\n",
       "      <td>4.787315</td>\n",
       "    </tr>\n",
       "    <tr>\n",
       "      <th>...</th>\n",
       "      <td>...</td>\n",
       "      <td>...</td>\n",
       "      <td>...</td>\n",
       "      <td>...</td>\n",
       "      <td>...</td>\n",
       "      <td>...</td>\n",
       "      <td>...</td>\n",
       "      <td>...</td>\n",
       "      <td>...</td>\n",
       "      <td>...</td>\n",
       "    </tr>\n",
       "    <tr>\n",
       "      <th>2016-11-01 12:55:00</th>\n",
       "      <td>0.386750</td>\n",
       "      <td>0.377678</td>\n",
       "      <td>11</td>\n",
       "      <td>1</td>\n",
       "      <td>Tuesday</td>\n",
       "      <td>12</td>\n",
       "      <td>55</td>\n",
       "      <td>188.8</td>\n",
       "      <td>1.216973</td>\n",
       "      <td>1.188425</td>\n",
       "    </tr>\n",
       "    <tr>\n",
       "      <th>2016-11-01 12:56:00</th>\n",
       "      <td>0.387800</td>\n",
       "      <td>0.378819</td>\n",
       "      <td>11</td>\n",
       "      <td>1</td>\n",
       "      <td>Tuesday</td>\n",
       "      <td>12</td>\n",
       "      <td>56</td>\n",
       "      <td>188.8</td>\n",
       "      <td>1.220277</td>\n",
       "      <td>1.192018</td>\n",
       "    </tr>\n",
       "    <tr>\n",
       "      <th>2016-11-01 12:57:00</th>\n",
       "      <td>0.377917</td>\n",
       "      <td>0.368058</td>\n",
       "      <td>11</td>\n",
       "      <td>1</td>\n",
       "      <td>Tuesday</td>\n",
       "      <td>12</td>\n",
       "      <td>57</td>\n",
       "      <td>188.8</td>\n",
       "      <td>1.189178</td>\n",
       "      <td>1.158157</td>\n",
       "    </tr>\n",
       "    <tr>\n",
       "      <th>2016-11-01 12:58:00</th>\n",
       "      <td>0.377867</td>\n",
       "      <td>0.368004</td>\n",
       "      <td>11</td>\n",
       "      <td>1</td>\n",
       "      <td>Tuesday</td>\n",
       "      <td>12</td>\n",
       "      <td>58</td>\n",
       "      <td>188.8</td>\n",
       "      <td>1.189020</td>\n",
       "      <td>1.157985</td>\n",
       "    </tr>\n",
       "    <tr>\n",
       "      <th>2016-11-01 12:59:00</th>\n",
       "      <td>0.375317</td>\n",
       "      <td>0.365223</td>\n",
       "      <td>11</td>\n",
       "      <td>1</td>\n",
       "      <td>Tuesday</td>\n",
       "      <td>12</td>\n",
       "      <td>59</td>\n",
       "      <td>188.8</td>\n",
       "      <td>1.180996</td>\n",
       "      <td>1.149234</td>\n",
       "    </tr>\n",
       "  </tbody>\n",
       "</table>\n",
       "<p>360 rows × 10 columns</p>\n",
       "</div>"
      ],
      "text/plain": [
       "                         real   predict  month  day  weekday  hour  minute  \\\n",
       "time                                                                         \n",
       "2016-11-01 07:00:00  1.737450  1.644289     11    1  Tuesday     7       0   \n",
       "2016-11-01 07:01:00  1.729317  1.637633     11    1  Tuesday     7       1   \n",
       "2016-11-01 07:02:00  1.636267  1.560923     11    1  Tuesday     7       2   \n",
       "2016-11-01 07:03:00  1.811750  1.704753     11    1  Tuesday     7       3   \n",
       "2016-11-01 07:04:00  1.588817  1.521392     11    1  Tuesday     7       4   \n",
       "...                       ...       ...    ...  ...      ...   ...     ...   \n",
       "2016-11-01 12:55:00  0.386750  0.377678     11    1  Tuesday    12      55   \n",
       "2016-11-01 12:56:00  0.387800  0.378819     11    1  Tuesday    12      56   \n",
       "2016-11-01 12:57:00  0.377917  0.368058     11    1  Tuesday    12      57   \n",
       "2016-11-01 12:58:00  0.377867  0.368004     11    1  Tuesday    12      58   \n",
       "2016-11-01 12:59:00  0.375317  0.365223     11    1  Tuesday    12      59   \n",
       "\n",
       "                      fare    r_fare    p_fare  \n",
       "time                                            \n",
       "2016-11-01 07:00:00  188.8  5.467176  5.174030  \n",
       "2016-11-01 07:01:00  188.8  5.441583  5.153085  \n",
       "2016-11-01 07:02:00  188.8  5.148786  4.911705  \n",
       "2016-11-01 07:03:00  188.8  5.700973  5.364289  \n",
       "2016-11-01 07:04:00  188.8  4.999476  4.787315  \n",
       "...                    ...       ...       ...  \n",
       "2016-11-01 12:55:00  188.8  1.216973  1.188425  \n",
       "2016-11-01 12:56:00  188.8  1.220277  1.192018  \n",
       "2016-11-01 12:57:00  188.8  1.189178  1.158157  \n",
       "2016-11-01 12:58:00  188.8  1.189020  1.157985  \n",
       "2016-11-01 12:59:00  188.8  1.180996  1.149234  \n",
       "\n",
       "[360 rows x 10 columns]"
      ]
     },
     "execution_count": 12,
     "metadata": {},
     "output_type": "execute_result"
    }
   ],
   "source": [
    "d1_h"
   ]
  },
  {
   "cell_type": "code",
   "execution_count": 52,
   "id": "53aa0ebd",
   "metadata": {},
   "outputs": [
    {
     "data": {
      "text/plain": [
       "0.834363889565352"
      ]
     },
     "execution_count": 52,
     "metadata": {},
     "output_type": "execute_result"
    }
   ],
   "source": [
    "#수요이전 기준치 (평균값)\n",
    "ref = np.mean(df['predict'])\n",
    "ref"
   ]
  },
  {
   "cell_type": "code",
   "execution_count": 53,
   "id": "e6f8814c",
   "metadata": {},
   "outputs": [
    {
     "data": {
      "text/plain": [
       "398.93000813948237"
      ]
     },
     "execution_count": 53,
     "metadata": {},
     "output_type": "execute_result"
    }
   ],
   "source": [
    "#수요이전 항목\n",
    "ts = d1_h[d1_h.predict > ref] \n",
    "#수요이전 양\n",
    "ts_t = ts['real']-ref\n",
    "sum(ts_t)"
   ]
  },
  {
   "cell_type": "code",
   "execution_count": 55,
   "id": "3231aa23",
   "metadata": {},
   "outputs": [
    {
     "name": "stderr",
     "output_type": "stream",
     "text": [
      "/opt/conda/lib/python3.10/site-packages/numpy/core/fromnumeric.py:3472: FutureWarning: In a future version, DataFrame.mean(axis=None) will return a scalar mean over the entire DataFrame. To retain the old behavior, use 'frame.mean(axis=0)' or just 'frame.mean()'\n",
      "  return mean(axis=axis, dtype=dtype, out=out, **kwargs)\n",
      "/opt/conda/lib/python3.10/site-packages/numpy/core/fromnumeric.py:3472: FutureWarning: Dropping of nuisance columns in DataFrame reductions (with 'numeric_only=None') is deprecated; in a future version this will raise TypeError.  Select only valid columns before calling the reduction.\n",
      "  return mean(axis=axis, dtype=dtype, out=out, **kwargs)\n"
     ]
    },
    {
     "data": {
      "text/plain": [
       "real         1.912201\n",
       "predict      1.739657\n",
       "month       11.000000\n",
       "day          1.000000\n",
       "hour         9.500000\n",
       "minute      29.500000\n",
       "fare       188.800000\n",
       "r_fare       6.017059\n",
       "p_fare       5.474120\n",
       "dtype: float64"
      ]
     },
     "execution_count": 55,
     "metadata": {},
     "output_type": "execute_result"
    }
   ],
   "source": [
    "np.mean(d1_h)"
   ]
  },
  {
   "cell_type": "code",
   "execution_count": null,
   "id": "8b5d675b-f794-486c-b545-b29c01135298",
   "metadata": {},
   "outputs": [],
   "source": []
  },
  {
   "cell_type": "code",
   "execution_count": 47,
   "id": "a126145c",
   "metadata": {},
   "outputs": [
    {
     "name": "stderr",
     "output_type": "stream",
     "text": [
      "/tmp/ipykernel_273/1346835242.py:2: SettingWithCopyWarning: \n",
      "A value is trying to be set on a copy of a slice from a DataFrame.\n",
      "Try using .loc[row_indexer,col_indexer] = value instead\n",
      "\n",
      "See the caveats in the documentation: https://pandas.pydata.org/pandas-docs/stable/user_guide/indexing.html#returning-a-view-versus-a-copy\n",
      "  ts['real'] = ref\n"
     ]
    },
    {
     "data": {
      "text/plain": [
       "172.0"
      ]
     },
     "execution_count": 47,
     "metadata": {},
     "output_type": "execute_result"
    }
   ],
   "source": [
    "# 수요이전 잔여\n",
    "ts['real'] = ref\n",
    "sum(ts['real'])"
   ]
  },
  {
   "cell_type": "code",
   "execution_count": 48,
   "id": "65555c76",
   "metadata": {},
   "outputs": [
    {
     "data": {
      "text/plain": [
       "6.3003333349999995"
      ]
     },
     "execution_count": 48,
     "metadata": {},
     "output_type": "execute_result"
    }
   ],
   "source": [
    "# 기준치보다 적은 최대부하 전력\n",
    "ts_n = d1_h[d1_h.predict < ref]\n",
    "sum(ts_n['real'])"
   ]
  },
  {
   "cell_type": "code",
   "execution_count": 49,
   "id": "a6abe54c",
   "metadata": {},
   "outputs": [],
   "source": [
    "m_fare = sum(d1_m['real']*153.0)\n",
    "l_fare = sum(d1_l['real']*107.0)"
   ]
  },
  {
   "cell_type": "code",
   "execution_count": 50,
   "id": "aa565820",
   "metadata": {},
   "outputs": [
    {
     "data": {
      "text/plain": [
       "2759.8999992170156"
      ]
     },
     "execution_count": 50,
     "metadata": {},
     "output_type": "execute_result"
    }
   ],
   "source": [
    "#수요이전 계산\n",
    "ts_fare = sum(ts_t)*107.0 + sum(ts['real'])*188.8 + sum(ts_n['real'])*188.8 + m_fare + l_fare\n",
    "ts_fare = ts_fare/60\n",
    "ts_fare"
   ]
  },
  {
   "cell_type": "code",
   "execution_count": 51,
   "id": "233ded87",
   "metadata": {},
   "outputs": [
    {
     "data": {
      "text/plain": [
       "20.126191919916458"
      ]
     },
     "execution_count": 51,
     "metadata": {},
     "output_type": "execute_result"
    }
   ],
   "source": [
    "# 절감율\n",
    "(sum(d1['r_fare']) - ts_fare) / sum(d1['r_fare']) * 100"
   ]
  },
  {
   "cell_type": "code",
   "execution_count": 38,
   "id": "d5756569",
   "metadata": {},
   "outputs": [
    {
     "data": {
      "text/plain": [
       "62.38016666699998"
      ]
     },
     "execution_count": 38,
     "metadata": {},
     "output_type": "execute_result"
    }
   ],
   "source": [
    "# 절감율이 20프로 이하이므로 중간부하에서 추가이전 필요\n",
    "# 수요이전 항목\n",
    "ts2 = d1_m[d1_m.predict > ref] \n",
    "# 수요이전 양\n",
    "ts2_t = ts2['real']-ref\n",
    "sum(ts2_t)"
   ]
  },
  {
   "cell_type": "code",
   "execution_count": 39,
   "id": "41520d11",
   "metadata": {},
   "outputs": [
    {
     "name": "stderr",
     "output_type": "stream",
     "text": [
      "/tmp/ipykernel_273/2285208154.py:2: SettingWithCopyWarning: \n",
      "A value is trying to be set on a copy of a slice from a DataFrame.\n",
      "Try using .loc[row_indexer,col_indexer] = value instead\n",
      "\n",
      "See the caveats in the documentation: https://pandas.pydata.org/pandas-docs/stable/user_guide/indexing.html#returning-a-view-versus-a-copy\n",
      "  ts2['real'] = ref\n"
     ]
    },
    {
     "data": {
      "text/plain": [
       "67.19999999999987"
      ]
     },
     "execution_count": 39,
     "metadata": {},
     "output_type": "execute_result"
    }
   ],
   "source": [
    "# 수요이전 잔여\n",
    "ts2['real'] = ref\n",
    "sum(ts2['real'])"
   ]
  },
  {
   "cell_type": "code",
   "execution_count": 40,
   "id": "556f6d01",
   "metadata": {},
   "outputs": [
    {
     "data": {
      "text/plain": [
       "49.812050004999996"
      ]
     },
     "execution_count": 40,
     "metadata": {},
     "output_type": "execute_result"
    }
   ],
   "source": [
    "# 기준치보다 적은 최대부하 전력\n",
    "ts2_n = d1_m[d1_m.predict < ref]\n",
    "sum(ts2_n['real'])"
   ]
  },
  {
   "cell_type": "code",
   "execution_count": 41,
   "id": "69b589ef",
   "metadata": {},
   "outputs": [
    {
     "data": {
      "text/plain": [
       "24577.521484133977"
      ]
     },
     "execution_count": 41,
     "metadata": {},
     "output_type": "execute_result"
    }
   ],
   "source": [
    "#추가 수요이전 계산\n",
    "m2_fare = sum(ts2_t)*107.0 + sum(ts2['real'])*153.0 + sum(ts2_n['real'])*153.0\n",
    "m2_fare"
   ]
  },
  {
   "cell_type": "code",
   "execution_count": 42,
   "id": "1fef4b79",
   "metadata": {},
   "outputs": [
    {
     "data": {
      "text/plain": [
       "2665.0090071602995"
      ]
     },
     "execution_count": 42,
     "metadata": {},
     "output_type": "execute_result"
    }
   ],
   "source": [
    "#최종 수요이전 계산\n",
    "ts_fare = sum(ts_t)*107.0 + sum(ts['real'])*188.8 + sum(ts_n['real'])*188.8 + m2_fare + l_fare\n",
    "ts_fare = ts_fare/60\n",
    "ts_fare"
   ]
  },
  {
   "cell_type": "code",
   "execution_count": 43,
   "id": "1aeb066e",
   "metadata": {},
   "outputs": [
    {
     "data": {
      "text/plain": [
       "22.872416381026326"
      ]
     },
     "execution_count": 43,
     "metadata": {},
     "output_type": "execute_result"
    }
   ],
   "source": [
    "# 최종 절감율\n",
    "(sum(d1['r_fare']) - ts_fare) / sum(d1['r_fare']) * 100"
   ]
  },
  {
   "cell_type": "code",
   "execution_count": 33,
   "id": "1417c587",
   "metadata": {},
   "outputs": [],
   "source": [
    "#한달통째로 수요이전\n",
    "df_h = df[df['hour'].isin(high)]\n",
    "df_m = df[df['hour'].isin(mid)]\n",
    "df_l = df[df['hour'].isin(low)]"
   ]
  },
  {
   "cell_type": "code",
   "execution_count": 34,
   "id": "d11db32b",
   "metadata": {},
   "outputs": [
    {
     "name": "stderr",
     "output_type": "stream",
     "text": [
      "/tmp/ipykernel_102/2444895918.py:6: SettingWithCopyWarning: \n",
      "A value is trying to be set on a copy of a slice from a DataFrame.\n",
      "Try using .loc[row_indexer,col_indexer] = value instead\n",
      "\n",
      "See the caveats in the documentation: https://pandas.pydata.org/pandas-docs/stable/user_guide/indexing.html#returning-a-view-versus-a-copy\n",
      "  ts['real'] = ref\n"
     ]
    },
    {
     "data": {
      "text/plain": [
       "7.503632025198392"
      ]
     },
     "execution_count": 34,
     "metadata": {},
     "output_type": "execute_result"
    }
   ],
   "source": [
    "#수요이전 항목\n",
    "ts = df_h[df_h.predict > ref] \n",
    "#수요이전 양\n",
    "ts_t = ts['real']-ref\n",
    "#수요이전 잔여\n",
    "ts['real'] = ref\n",
    "#기준치보다 적은 최대부하 전력\n",
    "ts_n = df_h[df_h.predict < ref]\n",
    "m_fare = sum(df_m['real']*153.0)\n",
    "l_fare = sum(df_l['real']*107.0)\n",
    "#수요이전 계산\n",
    "ts_fare = (sum(ts_t)*107.0 + sum(ts['real'])*188.8 + sum(ts_n['real'])*188.8 \n",
    "            + m_fare + l_fare)/60\n",
    "# 절감율\n",
    "(sum(df['r_fare']) - ts_fare) / sum(df['r_fare']) * 100"
   ]
  },
  {
   "cell_type": "code",
   "execution_count": null,
   "id": "6173bf8e",
   "metadata": {},
   "outputs": [],
   "source": []
  },
  {
   "cell_type": "code",
   "execution_count": 27,
   "id": "2164acde",
   "metadata": {},
   "outputs": [
    {
     "data": {
      "text/plain": [
       "0.6724765125816227"
      ]
     },
     "execution_count": 27,
     "metadata": {},
     "output_type": "execute_result"
    }
   ],
   "source": [
    "np.mean(ts_t)"
   ]
  },
  {
   "cell_type": "code",
   "execution_count": 28,
   "id": "d5cc7e31",
   "metadata": {},
   "outputs": [
    {
     "data": {
      "text/plain": [
       "time\n",
       "2016-11-01 07:00:00    0.888851\n",
       "2016-11-01 07:01:00    0.880717\n",
       "2016-11-01 07:02:00    0.787667\n",
       "2016-11-01 07:03:00    0.963151\n",
       "2016-11-01 07:04:00    0.740217\n",
       "                         ...   \n",
       "2016-11-30 12:55:00    0.477334\n",
       "2016-11-30 12:56:00    0.479551\n",
       "2016-11-30 12:57:00    0.588834\n",
       "2016-11-30 12:58:00    0.576784\n",
       "2016-11-30 12:59:00    0.556001\n",
       "Name: real, Length: 7444, dtype: float64"
      ]
     },
     "execution_count": 28,
     "metadata": {},
     "output_type": "execute_result"
    }
   ],
   "source": []
  },
  {
   "cell_type": "code",
   "execution_count": null,
   "id": "cf5d74d8",
   "metadata": {},
   "outputs": [],
   "source": []
  }
 ],
 "metadata": {
  "kernelspec": {
   "display_name": "Python 3 (ipykernel)",
   "language": "python",
   "name": "python3"
  },
  "language_info": {
   "codemirror_mode": {
    "name": "ipython",
    "version": 3
   },
   "file_extension": ".py",
   "mimetype": "text/x-python",
   "name": "python",
   "nbconvert_exporter": "python",
   "pygments_lexer": "ipython3",
   "version": "3.10.5"
  }
 },
 "nbformat": 4,
 "nbformat_minor": 5
}
