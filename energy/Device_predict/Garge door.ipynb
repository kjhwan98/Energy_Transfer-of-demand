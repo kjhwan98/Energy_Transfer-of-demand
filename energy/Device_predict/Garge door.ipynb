{
 "cells": [
  {
   "cell_type": "code",
   "execution_count": 1,
   "id": "913bc3bb",
   "metadata": {},
   "outputs": [],
   "source": [
    "import pandas as pd\n",
    "import numpy as np\n",
    "import matplotlib.pyplot as plt\n",
    "import seaborn as sns\n",
    "from sklearn.preprocessing import MinMaxScaler, StandardScaler\n",
    "from datetime import datetime\n",
    "import warnings\n",
    "warnings.filterwarnings('ignore')"
   ]
  },
  {
   "cell_type": "code",
   "execution_count": 2,
   "id": "a32d32d8",
   "metadata": {},
   "outputs": [
    {
     "data": {
      "text/html": [
       "<div>\n",
       "<style scoped>\n",
       "    .dataframe tbody tr th:only-of-type {\n",
       "        vertical-align: middle;\n",
       "    }\n",
       "\n",
       "    .dataframe tbody tr th {\n",
       "        vertical-align: top;\n",
       "    }\n",
       "\n",
       "    .dataframe thead th {\n",
       "        text-align: right;\n",
       "    }\n",
       "</style>\n",
       "<table border=\"1\" class=\"dataframe\">\n",
       "  <thead>\n",
       "    <tr style=\"text-align: right;\">\n",
       "      <th></th>\n",
       "      <th>House overall</th>\n",
       "      <th>Dishwasher</th>\n",
       "      <th>Home office</th>\n",
       "      <th>Fridge</th>\n",
       "      <th>Wine cellar</th>\n",
       "      <th>Garage door</th>\n",
       "      <th>Barn</th>\n",
       "      <th>Well</th>\n",
       "      <th>Microwave</th>\n",
       "      <th>Living room</th>\n",
       "      <th>...</th>\n",
       "      <th>cloudCover</th>\n",
       "      <th>windBearing</th>\n",
       "      <th>precipIntensity</th>\n",
       "      <th>dewPoint</th>\n",
       "      <th>precipProbability</th>\n",
       "      <th>month</th>\n",
       "      <th>day</th>\n",
       "      <th>weekday</th>\n",
       "      <th>hour</th>\n",
       "      <th>minute</th>\n",
       "    </tr>\n",
       "    <tr>\n",
       "      <th>time</th>\n",
       "      <th></th>\n",
       "      <th></th>\n",
       "      <th></th>\n",
       "      <th></th>\n",
       "      <th></th>\n",
       "      <th></th>\n",
       "      <th></th>\n",
       "      <th></th>\n",
       "      <th></th>\n",
       "      <th></th>\n",
       "      <th></th>\n",
       "      <th></th>\n",
       "      <th></th>\n",
       "      <th></th>\n",
       "      <th></th>\n",
       "      <th></th>\n",
       "      <th></th>\n",
       "      <th></th>\n",
       "      <th></th>\n",
       "      <th></th>\n",
       "      <th></th>\n",
       "    </tr>\n",
       "  </thead>\n",
       "  <tbody>\n",
       "    <tr>\n",
       "      <th>2016-01-01 14:00:00</th>\n",
       "      <td>0.932833</td>\n",
       "      <td>0.000033</td>\n",
       "      <td>0.442633</td>\n",
       "      <td>0.12415</td>\n",
       "      <td>0.006983</td>\n",
       "      <td>0.013083</td>\n",
       "      <td>0.03135</td>\n",
       "      <td>0.001017</td>\n",
       "      <td>0.004067</td>\n",
       "      <td>0.001517</td>\n",
       "      <td>...</td>\n",
       "      <td>0.75</td>\n",
       "      <td>282.0</td>\n",
       "      <td>0.0</td>\n",
       "      <td>24.4</td>\n",
       "      <td>0.0</td>\n",
       "      <td>1</td>\n",
       "      <td>1</td>\n",
       "      <td>Friday</td>\n",
       "      <td>14</td>\n",
       "      <td>0</td>\n",
       "    </tr>\n",
       "    <tr>\n",
       "      <th>2016-01-01 14:01:00</th>\n",
       "      <td>0.934333</td>\n",
       "      <td>0.000000</td>\n",
       "      <td>0.444067</td>\n",
       "      <td>0.12400</td>\n",
       "      <td>0.006983</td>\n",
       "      <td>0.013117</td>\n",
       "      <td>0.03150</td>\n",
       "      <td>0.001017</td>\n",
       "      <td>0.004067</td>\n",
       "      <td>0.001650</td>\n",
       "      <td>...</td>\n",
       "      <td>0.75</td>\n",
       "      <td>282.0</td>\n",
       "      <td>0.0</td>\n",
       "      <td>24.4</td>\n",
       "      <td>0.0</td>\n",
       "      <td>1</td>\n",
       "      <td>1</td>\n",
       "      <td>Friday</td>\n",
       "      <td>14</td>\n",
       "      <td>1</td>\n",
       "    </tr>\n",
       "  </tbody>\n",
       "</table>\n",
       "<p>2 rows × 29 columns</p>\n",
       "</div>"
      ],
      "text/plain": [
       "                     House overall  Dishwasher  Home office   Fridge  \\\n",
       "time                                                                   \n",
       "2016-01-01 14:00:00       0.932833    0.000033     0.442633  0.12415   \n",
       "2016-01-01 14:01:00       0.934333    0.000000     0.444067  0.12400   \n",
       "\n",
       "                     Wine cellar  Garage door     Barn      Well  Microwave  \\\n",
       "time                                                                          \n",
       "2016-01-01 14:00:00     0.006983     0.013083  0.03135  0.001017   0.004067   \n",
       "2016-01-01 14:01:00     0.006983     0.013117  0.03150  0.001017   0.004067   \n",
       "\n",
       "                     Living room  ...  cloudCover  windBearing  \\\n",
       "time                              ...                            \n",
       "2016-01-01 14:00:00     0.001517  ...        0.75        282.0   \n",
       "2016-01-01 14:01:00     0.001650  ...        0.75        282.0   \n",
       "\n",
       "                     precipIntensity  dewPoint  precipProbability  month  day  \\\n",
       "time                                                                            \n",
       "2016-01-01 14:00:00              0.0      24.4                0.0      1    1   \n",
       "2016-01-01 14:01:00              0.0      24.4                0.0      1    1   \n",
       "\n",
       "                     weekday  hour  minute  \n",
       "time                                        \n",
       "2016-01-01 14:00:00   Friday    14       0  \n",
       "2016-01-01 14:01:00   Friday    14       1  \n",
       "\n",
       "[2 rows x 29 columns]"
      ]
     },
     "execution_count": 2,
     "metadata": {},
     "output_type": "execute_result"
    }
   ],
   "source": [
    "df = pd.read_csv(\"HomeC2.csv\")\n",
    "df['time'] = pd.to_datetime(df['time'])\n",
    "df = df.set_index('time')\n",
    "df.head(2)"
   ]
  },
  {
   "cell_type": "code",
   "execution_count": 3,
   "id": "655f68ba",
   "metadata": {},
   "outputs": [],
   "source": [
    "data = df[['Garage door', 'temperature', 'humidity',\n",
    "       'visibility', 'apparentTemperature', 'pressure', 'windSpeed',\n",
    "       'cloudCover', 'windBearing', 'precipIntensity', 'dewPoint',\n",
    "       'precipProbability']]"
   ]
  },
  {
   "cell_type": "code",
   "execution_count": 4,
   "id": "4a5173ee",
   "metadata": {},
   "outputs": [],
   "source": [
    "scaler = MinMaxScaler(feature_range=(0, 1))\n",
    "data[data.columns[1:]] = scaler.fit_transform(data[data.columns[1:]])\n",
    "scaler_target = MinMaxScaler(feature_range=(0, 1))\n",
    "data[['Garage door']] = scaler_target.fit_transform(data[['Garage door']])"
   ]
  },
  {
   "cell_type": "code",
   "execution_count": 5,
   "id": "cd955097",
   "metadata": {},
   "outputs": [
    {
     "name": "stdout",
     "output_type": "stream",
     "text": [
      "X_train shape (438360, 1, 12)\n",
      "X_test shape (65548, 1, 12)\n",
      "Y_train shape (438360, 1)\n",
      "Y_test shape (65548, 1)\n"
     ]
    }
   ],
   "source": [
    "size = int(len(df.loc[:'2016-11-1 00:00']))\n",
    "data_train = data[:size]\n",
    "data_test = data[size:]\n",
    "X_train, X_test = [], []\n",
    "Y_train, Y_test = [], []\n",
    "n_past=1\n",
    "n_future=1\n",
    "for i in range(n_past, len(data_train)-n_future+1):\n",
    "    X_train.append(data_train.iloc[i-n_past:i, 0:data.shape[1]])\n",
    "    Y_train.append(data_train.iloc[i+n_future-1:i+n_future, 0])\n",
    "for i in range(n_past, len(data_test)-n_future+1):\n",
    "    X_test.append(data_test.iloc[i-n_past:i, 0:data_test.shape[1]])\n",
    "    Y_test.append(data_test.iloc[i+n_future-1:i+n_future, 0])\n",
    "    \n",
    "X_train, Y_train = np.array(X_train), np.array(Y_train)\n",
    "X_test, Y_test = np.array(X_test), np.array(Y_test)\n",
    "print('X_train shape', X_train.shape)\n",
    "print('X_test shape', X_test.shape)\n",
    "print('Y_train shape', Y_train.shape)\n",
    "print('Y_test shape', Y_test.shape)"
   ]
  },
  {
   "cell_type": "code",
   "execution_count": 6,
   "id": "a623f1c8",
   "metadata": {},
   "outputs": [],
   "source": [
    "from keras.models import Sequential\n",
    "from keras.layers import LSTM\n",
    "from keras.layers import Dense, Dropout\n",
    "from keras.layers import Bidirectional"
   ]
  },
  {
   "cell_type": "code",
   "execution_count": 7,
   "id": "499e9802",
   "metadata": {},
   "outputs": [
    {
     "name": "stdout",
     "output_type": "stream",
     "text": [
      "WARNING:tensorflow:Layer lstm will not use cuDNN kernels since it doesn't meet the criteria. It will use a generic GPU kernel as fallback when running on GPU.\n",
      "Model: \"sequential\"\n",
      "_________________________________________________________________\n",
      " Layer (type)                Output Shape              Param #   \n",
      "=================================================================\n",
      " lstm (LSTM)                 (None, 25)                3800      \n",
      "                                                                 \n",
      " dense (Dense)               (None, 1)                 26        \n",
      "                                                                 \n",
      "=================================================================\n",
      "Total params: 3,826\n",
      "Trainable params: 3,826\n",
      "Non-trainable params: 0\n",
      "_________________________________________________________________\n"
     ]
    },
    {
     "name": "stderr",
     "output_type": "stream",
     "text": [
      "2022-12-20 00:54:12.073312: I tensorflow/core/platform/cpu_feature_guard.cc:151] This TensorFlow binary is optimized with oneAPI Deep Neural Network Library (oneDNN) to use the following CPU instructions in performance-critical operations:  AVX2 FMA\n",
      "To enable them in other operations, rebuild TensorFlow with the appropriate compiler flags.\n",
      "2022-12-20 00:54:12.513363: I tensorflow/core/common_runtime/gpu/gpu_device.cc:1525] Created device /job:localhost/replica:0/task:0/device:GPU:0 with 22253 MB memory:  -> device: 0, name: NVIDIA GeForce RTX 3090, pci bus id: 0000:01:00.0, compute capability: 8.6\n"
     ]
    }
   ],
   "source": [
    "model = Sequential()\n",
    "model.add(LSTM(25, activation='relu', return_sequences = False, input_shape=(X_train.shape[1], X_train.shape[2])))\n",
    "#model.add(Dropout(0.2))\n",
    "model.add(Dense(Y_train.shape[1]))\n",
    "model.compile(optimizer='adam', loss='mse')\n",
    "model.summary()"
   ]
  },
  {
   "cell_type": "code",
   "execution_count": 8,
   "id": "131f491a",
   "metadata": {},
   "outputs": [
    {
     "name": "stderr",
     "output_type": "stream",
     "text": [
      "2022-12-20 00:54:14.085750: I tensorflow/stream_executor/cuda/cuda_blas.cc:1786] TensorFloat-32 will be used for the matrix multiplication. This will only be logged once.\n"
     ]
    },
    {
     "name": "stdout",
     "output_type": "stream",
     "text": [
      "Train MSE minimum: 9.59166354732588e-05\n"
     ]
    },
    {
     "data": {
      "image/png": "[encoded data removed]",
      "text/plain": [
       "<Figure size 432x288 with 1 Axes>"
      ]
     },
     "metadata": {
      "needs_background": "light"
     },
     "output_type": "display_data"
    }
   ],
   "source": [
    "model_fit = model.fit(X_train, Y_train, epochs=10, verbose=0)\n",
    "Train_pred = model.predict(X_train, verbose=0)\n",
    "Y_pred = model.predict(X_test, verbose=0)\n",
    "plt.plot(model_fit.history['loss'], label='Train loss')\n",
    "plt.legend()\n",
    "print('Train MSE minimum:', min(model_fit.history['loss']))"
   ]
  },
  {
   "cell_type": "code",
   "execution_count": 9,
   "id": "a6f64c59",
   "metadata": {},
   "outputs": [
    {
     "data": {
      "text/plain": [
       "0.003931911509055994"
      ]
     },
     "execution_count": 9,
     "metadata": {},
     "output_type": "execute_result"
    },
    {
     "data": {
      "image/png": "[encoded data removed]",
      "text/plain": [
       "<Figure size 1080x288 with 1 Axes>"
      ]
     },
     "metadata": {
      "needs_background": "light"
     },
     "output_type": "display_data"
    }
   ],
   "source": [
    "from sklearn.metrics import mean_squared_error, r2_score, mean_absolute_error\n",
    "data[['Garage door']] = scaler_target.inverse_transform(data[['Garage door']])\n",
    "Y_pred = scaler_target.inverse_transform(Y_pred)\n",
    "Train_pred = scaler_target.inverse_transform(Train_pred)\n",
    "plt.figure(figsize=(15,4))\n",
    "plt.plot(data[['Garage door']][size:-1].values)\n",
    "plt.plot(Y_pred)\n",
    "np.sqrt(mean_squared_error(Y_pred[:,0].tolist(), data[['Garage door']][size:-1].values))"
   ]
  },
  {
   "cell_type": "code",
   "execution_count": 10,
   "id": "0347017e",
   "metadata": {},
   "outputs": [
    {
     "name": "stdout",
     "output_type": "stream",
     "text": [
      "MSE: 0.00002\n",
      "RMSE: 0.00393\n",
      "MAE: 0.001\n",
      "MAPE: 0.026\n",
      "R^2 score: 0.889\n"
     ]
    },
    {
     "data": {
      "image/png": "[encoded data removed]",
      "text/plain": [
       "<Figure size 1080x288 with 1 Axes>"
      ]
     },
     "metadata": {
      "needs_background": "light"
     },
     "output_type": "display_data"
    }
   ],
   "source": [
    "Y_pred_series = pd.Series(Y_pred.flatten().tolist(), index=data['Garage door'][size:-n_past].index)\n",
    "Train_pred_series = pd.Series(Train_pred.flatten().tolist(), index=data['Garage door'][n_past:size].index)\n",
    "plt.figure(figsize=(15,4))\n",
    "plt.plot(data['Garage door'][:-n_past], c='blue', label='data')\n",
    "plt.plot(Y_pred_series, c='red', label='model test')\n",
    "plt.plot(Train_pred_series, c='green', label='model train')\n",
    "plt.legend()\n",
    "plt.grid(), plt.margins(x=0);\n",
    "Y_test = data['Garage door'][size:-n_past]\n",
    "\n",
    "# calcolo errore\n",
    "print('MSE: %.5f' % (mean_squared_error(Y_pred, Y_test)))\n",
    "print('RMSE: %.5f' % np.sqrt(mean_squared_error(Y_pred, Y_test)))\n",
    "MAE = mean_absolute_error(Y_test, Y_pred)\n",
    "MAPE = np.mean(np.abs(Y_pred[:,0] - Y_test.values)/np.abs(Y_test.values))\n",
    "print('MAE: %.3f' % MAE)\n",
    "print('MAPE: %.3f' %MAPE)\n",
    "print('R^2 score: %.3f' % r2_score(Y_test, Y_pred))"
   ]
  },
  {
   "cell_type": "code",
   "execution_count": 11,
   "id": "f4c7f288",
   "metadata": {},
   "outputs": [
    {
     "data": {
      "text/plain": [
       "[<matplotlib.lines.Line2D at 0x7f3b4cd30850>]"
      ]
     },
     "execution_count": 11,
     "metadata": {},
     "output_type": "execute_result"
    },
    {
     "data": {
      "image/png": "[encoded data removed]",
      "text/plain": [
       "<Figure size 1080x288 with 1 Axes>"
      ]
     },
     "metadata": {
      "needs_background": "light"
     },
     "output_type": "display_data"
    }
   ],
   "source": [
    "d1 = plt.figure(figsize=(15,4))\n",
    "plt.plot(data['Garage door']['2016-11-1'], c='blue', label='data')\n",
    "plt.plot(Y_pred_series['2016-11-1'], c='red', label='model test')"
   ]
  },
  {
   "cell_type": "code",
   "execution_count": 12,
   "id": "57f90b1d",
   "metadata": {},
   "outputs": [],
   "source": [
    "df_r = data['Garage door']['2016-11']\n",
    "df_r = pd.DataFrame({\"Garage door_r\":df_r})\n",
    "df_p = Y_pred_series['2016-11']\n",
    "df_p = pd.DataFrame({\"Garage door_p\":df_p})\n",
    "df_t = pd.merge(df_r, df_p, how='inner', on='time')\n",
    "df_t.to_csv('Device5.csv', index=False)"
   ]
  },
  {
   "cell_type": "code",
   "execution_count": 13,
   "id": "27af584f",
   "metadata": {},
   "outputs": [
    {
     "data": {
      "text/html": [
       "<div>\n",
       "<style scoped>\n",
       "    .dataframe tbody tr th:only-of-type {\n",
       "        vertical-align: middle;\n",
       "    }\n",
       "\n",
       "    .dataframe tbody tr th {\n",
       "        vertical-align: top;\n",
       "    }\n",
       "\n",
       "    .dataframe thead th {\n",
       "        text-align: right;\n",
       "    }\n",
       "</style>\n",
       "<table border=\"1\" class=\"dataframe\">\n",
       "  <thead>\n",
       "    <tr style=\"text-align: right;\">\n",
       "      <th></th>\n",
       "      <th>Garage door_r</th>\n",
       "      <th>Garage door_p</th>\n",
       "    </tr>\n",
       "    <tr>\n",
       "      <th>time</th>\n",
       "      <th></th>\n",
       "      <th></th>\n",
       "    </tr>\n",
       "  </thead>\n",
       "  <tbody>\n",
       "    <tr>\n",
       "      <th>2016-11-01 00:01:00</th>\n",
       "      <td>0.039867</td>\n",
       "      <td>0.042479</td>\n",
       "    </tr>\n",
       "    <tr>\n",
       "      <th>2016-11-01 00:02:00</th>\n",
       "      <td>0.033667</td>\n",
       "      <td>0.036433</td>\n",
       "    </tr>\n",
       "    <tr>\n",
       "      <th>2016-11-01 00:03:00</th>\n",
       "      <td>0.013200</td>\n",
       "      <td>0.013274</td>\n",
       "    </tr>\n",
       "    <tr>\n",
       "      <th>2016-11-01 00:04:00</th>\n",
       "      <td>0.013483</td>\n",
       "      <td>0.013604</td>\n",
       "    </tr>\n",
       "    <tr>\n",
       "      <th>2016-11-01 00:05:00</th>\n",
       "      <td>0.013450</td>\n",
       "      <td>0.013566</td>\n",
       "    </tr>\n",
       "    <tr>\n",
       "      <th>...</th>\n",
       "      <td>...</td>\n",
       "      <td>...</td>\n",
       "    </tr>\n",
       "    <tr>\n",
       "      <th>2016-11-30 23:55:00</th>\n",
       "      <td>0.013167</td>\n",
       "      <td>0.012597</td>\n",
       "    </tr>\n",
       "    <tr>\n",
       "      <th>2016-11-30 23:56:00</th>\n",
       "      <td>0.013183</td>\n",
       "      <td>0.012617</td>\n",
       "    </tr>\n",
       "    <tr>\n",
       "      <th>2016-11-30 23:57:00</th>\n",
       "      <td>0.013167</td>\n",
       "      <td>0.012597</td>\n",
       "    </tr>\n",
       "    <tr>\n",
       "      <th>2016-11-30 23:58:00</th>\n",
       "      <td>0.013183</td>\n",
       "      <td>0.012617</td>\n",
       "    </tr>\n",
       "    <tr>\n",
       "      <th>2016-11-30 23:59:00</th>\n",
       "      <td>0.013217</td>\n",
       "      <td>0.012657</td>\n",
       "    </tr>\n",
       "  </tbody>\n",
       "</table>\n",
       "<p>43199 rows × 2 columns</p>\n",
       "</div>"
      ],
      "text/plain": [
       "                     Garage door_r  Garage door_p\n",
       "time                                             \n",
       "2016-11-01 00:01:00       0.039867       0.042479\n",
       "2016-11-01 00:02:00       0.033667       0.036433\n",
       "2016-11-01 00:03:00       0.013200       0.013274\n",
       "2016-11-01 00:04:00       0.013483       0.013604\n",
       "2016-11-01 00:05:00       0.013450       0.013566\n",
       "...                            ...            ...\n",
       "2016-11-30 23:55:00       0.013167       0.012597\n",
       "2016-11-30 23:56:00       0.013183       0.012617\n",
       "2016-11-30 23:57:00       0.013167       0.012597\n",
       "2016-11-30 23:58:00       0.013183       0.012617\n",
       "2016-11-30 23:59:00       0.013217       0.012657\n",
       "\n",
       "[43199 rows x 2 columns]"
      ]
     },
     "execution_count": 13,
     "metadata": {},
     "output_type": "execute_result"
    }
   ],
   "source": [
    "df_t"
   ]
  },
  {
   "cell_type": "code",
   "execution_count": null,
   "id": "0b5abef7-b137-4f1e-a960-c8750cff69e2",
   "metadata": {},
   "outputs": [],
   "source": []
  }
 ],
 "metadata": {
  "kernelspec": {
   "display_name": "Python 3 (ipykernel)",
   "language": "python",
   "name": "python3"
  },
  "language_info": {
   "codemirror_mode": {
    "name": "ipython",
    "version": 3
   },
   "file_extension": ".py",
   "mimetype": "text/x-python",
   "name": "python",
   "nbconvert_exporter": "python",
   "pygments_lexer": "ipython3",
   "version": "3.10.5"
  }
 },
 "nbformat": 4,
 "nbformat_minor": 5
}
