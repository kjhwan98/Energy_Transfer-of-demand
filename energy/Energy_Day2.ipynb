{
 "cells": [
  {
   "cell_type": "code",
   "execution_count": 1,
   "id": "3b8637b0-a545-4a82-9df3-7c4705c10010",
   "metadata": {},
   "outputs": [],
   "source": [
    "import pandas as pd\n",
    "import numpy as np\n",
    "import matplotlib.pyplot as plt\n",
    "import seaborn as sns"
   ]
  },
  {
   "cell_type": "code",
   "execution_count": 2,
   "id": "18a65b27-ab17-4447-a336-2e188ced07d7",
   "metadata": {},
   "outputs": [],
   "source": [
    "df = pd.read_csv(\"HomeC_11.csv\")"
   ]
  },
  {
   "cell_type": "code",
   "execution_count": 3,
   "id": "45a9e53b-aedb-44d1-a5e1-78eed20bc6f9",
   "metadata": {},
   "outputs": [
    {
     "data": {
      "text/html": [
       "<div>\n",
       "<style scoped>\n",
       "    .dataframe tbody tr th:only-of-type {\n",
       "        vertical-align: middle;\n",
       "    }\n",
       "\n",
       "    .dataframe tbody tr th {\n",
       "        vertical-align: top;\n",
       "    }\n",
       "\n",
       "    .dataframe thead th {\n",
       "        text-align: right;\n",
       "    }\n",
       "</style>\n",
       "<table border=\"1\" class=\"dataframe\">\n",
       "  <thead>\n",
       "    <tr style=\"text-align: right;\">\n",
       "      <th></th>\n",
       "      <th>real</th>\n",
       "      <th>predict</th>\n",
       "      <th>month</th>\n",
       "      <th>day</th>\n",
       "      <th>weekday</th>\n",
       "      <th>hour</th>\n",
       "      <th>minute</th>\n",
       "      <th>fare</th>\n",
       "      <th>r_fare</th>\n",
       "      <th>p_fare</th>\n",
       "    </tr>\n",
       "  </thead>\n",
       "  <tbody>\n",
       "    <tr>\n",
       "      <th>0</th>\n",
       "      <td>0.013283</td>\n",
       "      <td>-0.013313</td>\n",
       "      <td>11</td>\n",
       "      <td>1</td>\n",
       "      <td>Tuesday</td>\n",
       "      <td>0</td>\n",
       "      <td>1</td>\n",
       "      <td>153.0</td>\n",
       "      <td>2.03235</td>\n",
       "      <td>-2.036848</td>\n",
       "    </tr>\n",
       "    <tr>\n",
       "      <th>1</th>\n",
       "      <td>0.068133</td>\n",
       "      <td>0.025262</td>\n",
       "      <td>11</td>\n",
       "      <td>1</td>\n",
       "      <td>Tuesday</td>\n",
       "      <td>0</td>\n",
       "      <td>2</td>\n",
       "      <td>153.0</td>\n",
       "      <td>10.42440</td>\n",
       "      <td>3.865098</td>\n",
       "    </tr>\n",
       "    <tr>\n",
       "      <th>2</th>\n",
       "      <td>0.118167</td>\n",
       "      <td>0.072004</td>\n",
       "      <td>11</td>\n",
       "      <td>1</td>\n",
       "      <td>Tuesday</td>\n",
       "      <td>0</td>\n",
       "      <td>3</td>\n",
       "      <td>153.0</td>\n",
       "      <td>18.07950</td>\n",
       "      <td>11.016584</td>\n",
       "    </tr>\n",
       "    <tr>\n",
       "      <th>3</th>\n",
       "      <td>0.699050</td>\n",
       "      <td>0.704830</td>\n",
       "      <td>11</td>\n",
       "      <td>1</td>\n",
       "      <td>Tuesday</td>\n",
       "      <td>0</td>\n",
       "      <td>4</td>\n",
       "      <td>153.0</td>\n",
       "      <td>106.95465</td>\n",
       "      <td>107.838952</td>\n",
       "    </tr>\n",
       "    <tr>\n",
       "      <th>4</th>\n",
       "      <td>0.666250</td>\n",
       "      <td>0.671340</td>\n",
       "      <td>11</td>\n",
       "      <td>1</td>\n",
       "      <td>Tuesday</td>\n",
       "      <td>0</td>\n",
       "      <td>5</td>\n",
       "      <td>153.0</td>\n",
       "      <td>101.93625</td>\n",
       "      <td>102.715018</td>\n",
       "    </tr>\n",
       "    <tr>\n",
       "      <th>...</th>\n",
       "      <td>...</td>\n",
       "      <td>...</td>\n",
       "      <td>...</td>\n",
       "      <td>...</td>\n",
       "      <td>...</td>\n",
       "      <td>...</td>\n",
       "      <td>...</td>\n",
       "      <td>...</td>\n",
       "      <td>...</td>\n",
       "      <td>...</td>\n",
       "    </tr>\n",
       "    <tr>\n",
       "      <th>43194</th>\n",
       "      <td>0.947467</td>\n",
       "      <td>0.952020</td>\n",
       "      <td>11</td>\n",
       "      <td>30</td>\n",
       "      <td>Wednesday</td>\n",
       "      <td>23</td>\n",
       "      <td>55</td>\n",
       "      <td>153.0</td>\n",
       "      <td>144.96240</td>\n",
       "      <td>145.659004</td>\n",
       "    </tr>\n",
       "    <tr>\n",
       "      <th>43195</th>\n",
       "      <td>0.949917</td>\n",
       "      <td>0.954362</td>\n",
       "      <td>11</td>\n",
       "      <td>30</td>\n",
       "      <td>Wednesday</td>\n",
       "      <td>23</td>\n",
       "      <td>56</td>\n",
       "      <td>153.0</td>\n",
       "      <td>145.33725</td>\n",
       "      <td>146.017428</td>\n",
       "    </tr>\n",
       "    <tr>\n",
       "      <th>43196</th>\n",
       "      <td>0.925950</td>\n",
       "      <td>0.931391</td>\n",
       "      <td>11</td>\n",
       "      <td>30</td>\n",
       "      <td>Wednesday</td>\n",
       "      <td>23</td>\n",
       "      <td>57</td>\n",
       "      <td>153.0</td>\n",
       "      <td>141.67035</td>\n",
       "      <td>142.502878</td>\n",
       "    </tr>\n",
       "    <tr>\n",
       "      <th>43197</th>\n",
       "      <td>0.918600</td>\n",
       "      <td>0.924323</td>\n",
       "      <td>11</td>\n",
       "      <td>30</td>\n",
       "      <td>Wednesday</td>\n",
       "      <td>23</td>\n",
       "      <td>58</td>\n",
       "      <td>153.0</td>\n",
       "      <td>140.54580</td>\n",
       "      <td>141.421349</td>\n",
       "    </tr>\n",
       "    <tr>\n",
       "      <th>43198</th>\n",
       "      <td>0.827517</td>\n",
       "      <td>0.835758</td>\n",
       "      <td>11</td>\n",
       "      <td>30</td>\n",
       "      <td>Wednesday</td>\n",
       "      <td>23</td>\n",
       "      <td>59</td>\n",
       "      <td>153.0</td>\n",
       "      <td>126.61005</td>\n",
       "      <td>127.871024</td>\n",
       "    </tr>\n",
       "  </tbody>\n",
       "</table>\n",
       "<p>43199 rows × 10 columns</p>\n",
       "</div>"
      ],
      "text/plain": [
       "           real   predict  month  day    weekday  hour  minute   fare  \\\n",
       "0      0.013283 -0.013313     11    1    Tuesday     0       1  153.0   \n",
       "1      0.068133  0.025262     11    1    Tuesday     0       2  153.0   \n",
       "2      0.118167  0.072004     11    1    Tuesday     0       3  153.0   \n",
       "3      0.699050  0.704830     11    1    Tuesday     0       4  153.0   \n",
       "4      0.666250  0.671340     11    1    Tuesday     0       5  153.0   \n",
       "...         ...       ...    ...  ...        ...   ...     ...    ...   \n",
       "43194  0.947467  0.952020     11   30  Wednesday    23      55  153.0   \n",
       "43195  0.949917  0.954362     11   30  Wednesday    23      56  153.0   \n",
       "43196  0.925950  0.931391     11   30  Wednesday    23      57  153.0   \n",
       "43197  0.918600  0.924323     11   30  Wednesday    23      58  153.0   \n",
       "43198  0.827517  0.835758     11   30  Wednesday    23      59  153.0   \n",
       "\n",
       "          r_fare      p_fare  \n",
       "0        2.03235   -2.036848  \n",
       "1       10.42440    3.865098  \n",
       "2       18.07950   11.016584  \n",
       "3      106.95465  107.838952  \n",
       "4      101.93625  102.715018  \n",
       "...          ...         ...  \n",
       "43194  144.96240  145.659004  \n",
       "43195  145.33725  146.017428  \n",
       "43196  141.67035  142.502878  \n",
       "43197  140.54580  141.421349  \n",
       "43198  126.61005  127.871024  \n",
       "\n",
       "[43199 rows x 10 columns]"
      ]
     },
     "execution_count": 3,
     "metadata": {},
     "output_type": "execute_result"
    }
   ],
   "source": [
    "df"
   ]
  },
  {
   "cell_type": "code",
   "execution_count": 4,
   "id": "8daa0e91-f928-4e43-826f-186d829c36b4",
   "metadata": {},
   "outputs": [],
   "source": [
    "df['time'] = pd.DatetimeIndex(pd.date_range('2016-11-01 00:01', periods=len(df),  freq='min'))\n",
    "df = df.set_index('time')"
   ]
  },
  {
   "cell_type": "code",
   "execution_count": 5,
   "id": "0a98eefd-881a-43e8-b715-a7250924ac2a",
   "metadata": {},
   "outputs": [
    {
     "data": {
      "text/plain": [
       "[<matplotlib.lines.Line2D at 0x7f46a9d4b820>]"
      ]
     },
     "execution_count": 5,
     "metadata": {},
     "output_type": "execute_result"
    },
    {
     "data": {
      "image/png": "[encoded data removed]",
      "text/plain": [
       "<Figure size 1080x288 with 1 Axes>"
      ]
     },
     "metadata": {
      "needs_background": "light"
     },
     "output_type": "display_data"
    }
   ],
   "source": [
    "d1 = plt.figure(figsize=(15,4))\n",
    "plt.plot(df['real']['2016-11'], c='blue', label='data')\n",
    "plt.plot(df['predict']['2016-11'], c='red', label='model test')"
   ]
  },
  {
   "cell_type": "code",
   "execution_count": 6,
   "id": "9b847d4e-54fa-4fb4-89e6-c484eab68865",
   "metadata": {},
   "outputs": [
    {
     "data": {
      "text/plain": [
       "15.220097892687903"
      ]
     },
     "execution_count": 6,
     "metadata": {},
     "output_type": "execute_result"
    }
   ],
   "source": [
    "np.mean(np.abs((df['real'] - df['predict']) / df['real'])) * 100 "
   ]
  },
  {
   "cell_type": "code",
   "execution_count": 7,
   "id": "d8128acf-689e-4674-9dfd-734f8834e43b",
   "metadata": {},
   "outputs": [
    {
     "data": {
      "text/html": [
       "<div>\n",
       "<style scoped>\n",
       "    .dataframe tbody tr th:only-of-type {\n",
       "        vertical-align: middle;\n",
       "    }\n",
       "\n",
       "    .dataframe tbody tr th {\n",
       "        vertical-align: top;\n",
       "    }\n",
       "\n",
       "    .dataframe thead th {\n",
       "        text-align: right;\n",
       "    }\n",
       "</style>\n",
       "<table border=\"1\" class=\"dataframe\">\n",
       "  <thead>\n",
       "    <tr style=\"text-align: right;\">\n",
       "      <th></th>\n",
       "      <th>real</th>\n",
       "      <th>predict</th>\n",
       "      <th>month</th>\n",
       "      <th>day</th>\n",
       "      <th>weekday</th>\n",
       "      <th>hour</th>\n",
       "      <th>minute</th>\n",
       "      <th>fare</th>\n",
       "      <th>r_fare</th>\n",
       "      <th>p_fare</th>\n",
       "    </tr>\n",
       "    <tr>\n",
       "      <th>time</th>\n",
       "      <th></th>\n",
       "      <th></th>\n",
       "      <th></th>\n",
       "      <th></th>\n",
       "      <th></th>\n",
       "      <th></th>\n",
       "      <th></th>\n",
       "      <th></th>\n",
       "      <th></th>\n",
       "      <th></th>\n",
       "    </tr>\n",
       "  </thead>\n",
       "  <tbody>\n",
       "    <tr>\n",
       "      <th>2016-11-02 00:00:00</th>\n",
       "      <td>0.012450</td>\n",
       "      <td>0.002812</td>\n",
       "      <td>11</td>\n",
       "      <td>2</td>\n",
       "      <td>Wednesday</td>\n",
       "      <td>0</td>\n",
       "      <td>0</td>\n",
       "      <td>153.0</td>\n",
       "      <td>1.90485</td>\n",
       "      <td>0.430170</td>\n",
       "    </tr>\n",
       "    <tr>\n",
       "      <th>2016-11-02 00:01:00</th>\n",
       "      <td>0.016000</td>\n",
       "      <td>0.005284</td>\n",
       "      <td>11</td>\n",
       "      <td>2</td>\n",
       "      <td>Wednesday</td>\n",
       "      <td>0</td>\n",
       "      <td>1</td>\n",
       "      <td>153.0</td>\n",
       "      <td>2.44800</td>\n",
       "      <td>0.808426</td>\n",
       "    </tr>\n",
       "    <tr>\n",
       "      <th>2016-11-02 00:02:00</th>\n",
       "      <td>0.005317</td>\n",
       "      <td>-0.002168</td>\n",
       "      <td>11</td>\n",
       "      <td>2</td>\n",
       "      <td>Wednesday</td>\n",
       "      <td>0</td>\n",
       "      <td>2</td>\n",
       "      <td>153.0</td>\n",
       "      <td>0.81345</td>\n",
       "      <td>-0.331734</td>\n",
       "    </tr>\n",
       "    <tr>\n",
       "      <th>2016-11-02 00:03:00</th>\n",
       "      <td>0.051783</td>\n",
       "      <td>0.029978</td>\n",
       "      <td>11</td>\n",
       "      <td>2</td>\n",
       "      <td>Wednesday</td>\n",
       "      <td>0</td>\n",
       "      <td>3</td>\n",
       "      <td>153.0</td>\n",
       "      <td>7.92285</td>\n",
       "      <td>4.586661</td>\n",
       "    </tr>\n",
       "    <tr>\n",
       "      <th>2016-11-02 00:04:00</th>\n",
       "      <td>0.340750</td>\n",
       "      <td>0.329419</td>\n",
       "      <td>11</td>\n",
       "      <td>2</td>\n",
       "      <td>Wednesday</td>\n",
       "      <td>0</td>\n",
       "      <td>4</td>\n",
       "      <td>153.0</td>\n",
       "      <td>52.13475</td>\n",
       "      <td>50.401160</td>\n",
       "    </tr>\n",
       "    <tr>\n",
       "      <th>...</th>\n",
       "      <td>...</td>\n",
       "      <td>...</td>\n",
       "      <td>...</td>\n",
       "      <td>...</td>\n",
       "      <td>...</td>\n",
       "      <td>...</td>\n",
       "      <td>...</td>\n",
       "      <td>...</td>\n",
       "      <td>...</td>\n",
       "      <td>...</td>\n",
       "    </tr>\n",
       "    <tr>\n",
       "      <th>2016-11-02 23:55:00</th>\n",
       "      <td>0.086817</td>\n",
       "      <td>0.036842</td>\n",
       "      <td>11</td>\n",
       "      <td>2</td>\n",
       "      <td>Wednesday</td>\n",
       "      <td>23</td>\n",
       "      <td>55</td>\n",
       "      <td>153.0</td>\n",
       "      <td>13.28295</td>\n",
       "      <td>5.636888</td>\n",
       "    </tr>\n",
       "    <tr>\n",
       "      <th>2016-11-02 23:56:00</th>\n",
       "      <td>0.106867</td>\n",
       "      <td>0.060867</td>\n",
       "      <td>11</td>\n",
       "      <td>2</td>\n",
       "      <td>Wednesday</td>\n",
       "      <td>23</td>\n",
       "      <td>56</td>\n",
       "      <td>153.0</td>\n",
       "      <td>16.35060</td>\n",
       "      <td>9.312653</td>\n",
       "    </tr>\n",
       "    <tr>\n",
       "      <th>2016-11-02 23:57:00</th>\n",
       "      <td>0.089367</td>\n",
       "      <td>0.039905</td>\n",
       "      <td>11</td>\n",
       "      <td>2</td>\n",
       "      <td>Wednesday</td>\n",
       "      <td>23</td>\n",
       "      <td>57</td>\n",
       "      <td>153.0</td>\n",
       "      <td>13.67310</td>\n",
       "      <td>6.105419</td>\n",
       "    </tr>\n",
       "    <tr>\n",
       "      <th>2016-11-02 23:58:00</th>\n",
       "      <td>0.078117</td>\n",
       "      <td>0.026380</td>\n",
       "      <td>11</td>\n",
       "      <td>2</td>\n",
       "      <td>Wednesday</td>\n",
       "      <td>23</td>\n",
       "      <td>58</td>\n",
       "      <td>153.0</td>\n",
       "      <td>11.95185</td>\n",
       "      <td>4.036089</td>\n",
       "    </tr>\n",
       "    <tr>\n",
       "      <th>2016-11-02 23:59:00</th>\n",
       "      <td>0.071667</td>\n",
       "      <td>0.018608</td>\n",
       "      <td>11</td>\n",
       "      <td>2</td>\n",
       "      <td>Wednesday</td>\n",
       "      <td>23</td>\n",
       "      <td>59</td>\n",
       "      <td>153.0</td>\n",
       "      <td>10.96500</td>\n",
       "      <td>2.846951</td>\n",
       "    </tr>\n",
       "  </tbody>\n",
       "</table>\n",
       "<p>1440 rows × 10 columns</p>\n",
       "</div>"
      ],
      "text/plain": [
       "                         real   predict  month  day    weekday  hour  minute  \\\n",
       "time                                                                           \n",
       "2016-11-02 00:00:00  0.012450  0.002812     11    2  Wednesday     0       0   \n",
       "2016-11-02 00:01:00  0.016000  0.005284     11    2  Wednesday     0       1   \n",
       "2016-11-02 00:02:00  0.005317 -0.002168     11    2  Wednesday     0       2   \n",
       "2016-11-02 00:03:00  0.051783  0.029978     11    2  Wednesday     0       3   \n",
       "2016-11-02 00:04:00  0.340750  0.329419     11    2  Wednesday     0       4   \n",
       "...                       ...       ...    ...  ...        ...   ...     ...   \n",
       "2016-11-02 23:55:00  0.086817  0.036842     11    2  Wednesday    23      55   \n",
       "2016-11-02 23:56:00  0.106867  0.060867     11    2  Wednesday    23      56   \n",
       "2016-11-02 23:57:00  0.089367  0.039905     11    2  Wednesday    23      57   \n",
       "2016-11-02 23:58:00  0.078117  0.026380     11    2  Wednesday    23      58   \n",
       "2016-11-02 23:59:00  0.071667  0.018608     11    2  Wednesday    23      59   \n",
       "\n",
       "                      fare    r_fare     p_fare  \n",
       "time                                             \n",
       "2016-11-02 00:00:00  153.0   1.90485   0.430170  \n",
       "2016-11-02 00:01:00  153.0   2.44800   0.808426  \n",
       "2016-11-02 00:02:00  153.0   0.81345  -0.331734  \n",
       "2016-11-02 00:03:00  153.0   7.92285   4.586661  \n",
       "2016-11-02 00:04:00  153.0  52.13475  50.401160  \n",
       "...                    ...       ...        ...  \n",
       "2016-11-02 23:55:00  153.0  13.28295   5.636888  \n",
       "2016-11-02 23:56:00  153.0  16.35060   9.312653  \n",
       "2016-11-02 23:57:00  153.0  13.67310   6.105419  \n",
       "2016-11-02 23:58:00  153.0  11.95185   4.036089  \n",
       "2016-11-02 23:59:00  153.0  10.96500   2.846951  \n",
       "\n",
       "[1440 rows x 10 columns]"
      ]
     },
     "execution_count": 7,
     "metadata": {},
     "output_type": "execute_result"
    }
   ],
   "source": [
    "d2 = df.loc[df['day']==2]\n",
    "d2"
   ]
  },
  {
   "cell_type": "code",
   "execution_count": 8,
   "id": "6b1cd6dc-e675-474b-a042-d88f1d387551",
   "metadata": {},
   "outputs": [
    {
     "data": {
      "text/plain": [
       "[<matplotlib.lines.Line2D at 0x7f46a1a34f40>]"
      ]
     },
     "execution_count": 8,
     "metadata": {},
     "output_type": "execute_result"
    },
    {
     "data": {
      "image/png": "[encoded data removed]",
      "text/plain": [
       "<Figure size 1080x288 with 1 Axes>"
      ]
     },
     "metadata": {
      "needs_background": "light"
     },
     "output_type": "display_data"
    }
   ],
   "source": [
    "low = [13,14,15,16,17,18,19,20,21,22]\n",
    "mid = [23,0,1,2,3,4,5,6]\n",
    "high = [7,8,9,10,11,12]\n",
    "plt.figure(figsize=(15,4))\n",
    "plt.plot(d2['real'], c='blue', label='real')\n",
    "plt.plot(d2['predict'], c='red', label='predict')"
   ]
  },
  {
   "cell_type": "code",
   "execution_count": 9,
   "id": "8aa44c34-2f03-4005-b6f7-dd10a8b2ad18",
   "metadata": {},
   "outputs": [],
   "source": [
    "a = sum(d2['r_fare'])/60\n",
    "b = sum(d2['p_fare'])/60"
   ]
  },
  {
   "cell_type": "code",
   "execution_count": 10,
   "id": "9212a74a-71b7-463c-a144-ddab1723cb54",
   "metadata": {},
   "outputs": [
    {
     "data": {
      "text/plain": [
       "2.85270174797321"
      ]
     },
     "execution_count": 10,
     "metadata": {},
     "output_type": "execute_result"
    }
   ],
   "source": [
    "(a-b)/a *100"
   ]
  },
  {
   "cell_type": "code",
   "execution_count": 11,
   "id": "02d75f8c-22a2-4518-bbe4-be686fa327ff",
   "metadata": {},
   "outputs": [
    {
     "data": {
      "text/plain": [
       "2144.9542580414322"
      ]
     },
     "execution_count": 11,
     "metadata": {},
     "output_type": "execute_result"
    }
   ],
   "source": [
    "a"
   ]
  },
  {
   "cell_type": "code",
   "execution_count": 12,
   "id": "d5513982-fcc8-4f06-8280-95014a457055",
   "metadata": {},
   "outputs": [
    {
     "data": {
      "text/plain": [
       "2083.7651104290585"
      ]
     },
     "execution_count": 12,
     "metadata": {},
     "output_type": "execute_result"
    }
   ],
   "source": [
    "b"
   ]
  },
  {
   "cell_type": "code",
   "execution_count": null,
   "id": "a0d2ed9d-b24b-415d-9bd6-dbfbeaecdcf4",
   "metadata": {},
   "outputs": [],
   "source": []
  }
 ],
 "metadata": {
  "kernelspec": {
   "display_name": "Python 3 (ipykernel)",
   "language": "python",
   "name": "python3"
  },
  "language_info": {
   "codemirror_mode": {
    "name": "ipython",
    "version": 3
   },
   "file_extension": ".py",
   "mimetype": "text/x-python",
   "name": "python",
   "nbconvert_exporter": "python",
   "pygments_lexer": "ipython3",
   "version": "3.10.5"
  }
 },
 "nbformat": 4,
 "nbformat_minor": 5
}
